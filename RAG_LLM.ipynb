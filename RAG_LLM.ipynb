{
 "cells": [
  {
   "cell_type": "code",
   "execution_count": 8,
   "id": "eff3e5a0",
   "metadata": {},
   "outputs": [],
   "source": [
    "from langchain import PromptTemplate, LLMChain\n",
    "import os\n",
    "from langchain.vectorstores import Chroma\n",
    "from getpass import getpass\n",
    "from langchain.embeddings.openai import OpenAIEmbeddings\n",
    "from langchain.chains import RetrievalQA\n",
    "import gradio as gr"
   ]
  },
  {
   "cell_type": "markdown",
   "id": "13f1db25",
   "metadata": {},
   "source": [
    "### Load Vector Store stored locally"
   ]
  },
  {
   "cell_type": "code",
   "execution_count": 38,
   "id": "0554bc73",
   "metadata": {},
   "outputs": [],
   "source": [
    "#token=''"
   ]
  },
  {
   "cell_type": "code",
   "execution_count": 39,
   "id": "1301fd45",
   "metadata": {},
   "outputs": [],
   "source": [
    "model_name = \"text-embedding-ada-002\"\n",
    "\n",
    "# get openai api key from platform.openai.com\n",
    "OPENAI_API_KEY = token\n",
    "\n",
    "OAIembeddings = OpenAIEmbeddings(\n",
    "    model=model_name, openai_api_key=OPENAI_API_KEY, disallowed_special=()\n",
    ")"
   ]
  },
  {
   "cell_type": "code",
   "execution_count": 40,
   "id": "2ec2d4ec",
   "metadata": {},
   "outputs": [],
   "source": [
    "load_vector_store = Chroma(persist_directory=\"iupui_store_1\", embedding_function=OAIembeddings)\n",
    "retriever = load_vector_store.as_retriever(search_kwargs={\"k\":4})"
   ]
  },
  {
   "cell_type": "markdown",
   "id": "fda5e1d4",
   "metadata": {},
   "source": [
    "### Prompt Template "
   ]
  },
  {
   "cell_type": "code",
   "execution_count": 41,
   "id": "d1ce0879",
   "metadata": {},
   "outputs": [],
   "source": [
    "prompt_template = \"\"\"Use the following pieces of information to answer the user's question.\n",
    "If you don't know the answer, just say that you don't know, don't try to make up an answer.\n",
    "\n",
    "Context: {context}\n",
    "Question: {question}\n",
    "\n",
    "Only return the helpful answer below and nothing else.\n",
    "Helpful answer:\n",
    "\"\"\""
   ]
  },
  {
   "cell_type": "code",
   "execution_count": 42,
   "id": "b813c54e",
   "metadata": {},
   "outputs": [],
   "source": [
    "prompt = PromptTemplate(template=prompt_template, input_variables=['context', 'question'])\n",
    "retriever = load_vector_store.as_retriever(search_kwargs={\"k\":2})"
   ]
  },
  {
   "cell_type": "code",
   "execution_count": 48,
   "id": "c06babab",
   "metadata": {},
   "outputs": [
    {
     "name": "stdout",
     "output_type": "stream",
     "text": [
      "[Document(page_content='Horn Sheeler, Ph.D.](https://honors.iupui.edu/profiles/kristina-horn-sheeler.html)  [William Potter](https://herron.iupui.edu/about/directory/profiles/potter-william.html)', metadata={'seq_num': 1, 'source': '/Users/abhi/Desktop/IS_unibot/full_data.json', 'url': 'URL: https://crl.iupui.edu/aboutcrl/advisoryboard.html#search'}), Document(page_content='M.P.H.](https://lhsi.iupui.edu/about/about-the-team/brandi-gilbert.html)  [Steven J. Higbee, Ph.D.](https://et.iupui.edu/people/sjhigbee)  [Clayton L. Nicholas](https://et.iupui.edu/people/clnichol)  [Randall J. Roper, Ph.D.](https://science.iupui.edu/biology/people-directory/people/roper-randall.html)  [Keith E. Naugle, Ph.D.](https://shhs.iupui.edu/contact/directory/naugle-keith.html)  [Kristina Horn Sheeler, Ph.D.](https://honors.iupui.edu/profiles/kristina-horn-sheeler.html)  [William', metadata={'seq_num': 1, 'source': '/Users/abhi/Desktop/IS_unibot/full_data.json', 'url': 'URL: https://crl.iupui.edu/aboutcrl/advisoryboard.html#search'})]\n"
     ]
    }
   ],
   "source": [
    "#Example of retreival\n",
    "query = \"who is the Wiiliam Potter?\"\n",
    "semantic_search = retriever.get_relevant_documents(query)\n",
    "print(semantic_search)"
   ]
  },
  {
   "cell_type": "markdown",
   "id": "d464215b",
   "metadata": {},
   "source": [
    "### Load the model"
   ]
  },
  {
   "cell_type": "code",
   "execution_count": null,
   "id": "9cea56c5",
   "metadata": {},
   "outputs": [],
   "source": []
  },
  {
   "cell_type": "code",
   "execution_count": 53,
   "id": "02f02bc5",
   "metadata": {},
   "outputs": [],
   "source": [
    "from langchain.chat_models import ChatOpenAI\n",
    "llm = ChatOpenAI(temperature=0.3, model='gpt-3.5-turbo',openai_api_key=token)"
   ]
  },
  {
   "cell_type": "code",
   "execution_count": 54,
   "id": "e0b05dc1",
   "metadata": {},
   "outputs": [],
   "source": [
    "chain_type_kwargs = {\"prompt\": prompt}\n",
    "\n",
    "qa = RetrievalQA.from_chain_type(\n",
    "    llm=llm,\n",
    "    chain_type=\"stuff\",\n",
    "    retriever=retriever,\n",
    "    return_source_documents = True,\n",
    "    chain_type_kwargs= chain_type_kwargs,\n",
    "    verbose=True\n",
    ")\n"
   ]
  },
  {
   "cell_type": "code",
   "execution_count": 55,
   "id": "95f09e95",
   "metadata": {},
   "outputs": [
    {
     "name": "stdout",
     "output_type": "stream",
     "text": [
      "\n",
      "\n",
      "\u001b[1m> Entering new RetrievalQA chain...\u001b[0m\n",
      "\n",
      "\u001b[1m> Finished chain.\u001b[0m\n",
      "{'query': 'who is the Wiiliam Potter?', 'result': 'William Potter is a professor at IUPUI.', 'source_documents': [Document(page_content='Horn Sheeler, Ph.D.](https://honors.iupui.edu/profiles/kristina-horn-sheeler.html)  [William Potter](https://herron.iupui.edu/about/directory/profiles/potter-william.html)', metadata={'seq_num': 1, 'source': '/Users/abhi/Desktop/IS_unibot/full_data.json', 'url': 'URL: https://crl.iupui.edu/aboutcrl/advisoryboard.html#search'}), Document(page_content='M.P.H.](https://lhsi.iupui.edu/about/about-the-team/brandi-gilbert.html)  [Steven J. Higbee, Ph.D.](https://et.iupui.edu/people/sjhigbee)  [Clayton L. Nicholas](https://et.iupui.edu/people/clnichol)  [Randall J. Roper, Ph.D.](https://science.iupui.edu/biology/people-directory/people/roper-randall.html)  [Keith E. Naugle, Ph.D.](https://shhs.iupui.edu/contact/directory/naugle-keith.html)  [Kristina Horn Sheeler, Ph.D.](https://honors.iupui.edu/profiles/kristina-horn-sheeler.html)  [William', metadata={'seq_num': 1, 'source': '/Users/abhi/Desktop/IS_unibot/full_data.json', 'url': 'URL: https://crl.iupui.edu/aboutcrl/advisoryboard.html#search'})]}\n"
     ]
    }
   ],
   "source": [
    "response = qa(query)\n",
    "\n",
    "print(response)"
   ]
  },
  {
   "cell_type": "code",
   "execution_count": null,
   "id": "326291ca",
   "metadata": {},
   "outputs": [],
   "source": []
  }
 ],
 "metadata": {
  "kernelspec": {
   "display_name": "Python 3 (ipykernel)",
   "language": "python",
   "name": "python3"
  },
  "language_info": {
   "codemirror_mode": {
    "name": "ipython",
    "version": 3
   },
   "file_extension": ".py",
   "mimetype": "text/x-python",
   "name": "python",
   "nbconvert_exporter": "python",
   "pygments_lexer": "ipython3",
   "version": "3.9.12"
  }
 },
 "nbformat": 4,
 "nbformat_minor": 5
}
