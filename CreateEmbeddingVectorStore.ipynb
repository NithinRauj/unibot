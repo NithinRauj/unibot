{
 "cells": [
  {
   "cell_type": "code",
   "execution_count": 2,
   "id": "d32ede93",
   "metadata": {},
   "outputs": [],
   "source": [
    "import os\n",
    "from langchain.text_splitter import RecursiveCharacterTextSplitter\n",
    "from langchain.vectorstores import Chroma"
   ]
  },
  {
   "cell_type": "code",
   "execution_count": 3,
   "id": "fb78698a",
   "metadata": {},
   "outputs": [],
   "source": [
    "from langchain.document_loaders import JSONLoader"
   ]
  },
  {
   "cell_type": "markdown",
   "id": "0070571c",
   "metadata": {},
   "source": [
    "### Data Process and Save"
   ]
  },
  {
   "cell_type": "code",
   "execution_count": 4,
   "id": "bd4c13e6",
   "metadata": {},
   "outputs": [],
   "source": [
    "import json\n",
    "import os\n",
    "\n",
    "def combine_json_files(folder_path):\n",
    "    combined_data = []  # Use a list to combine data; adjust as needed (e.g., use a dict)\n",
    "\n",
    "    # Loop through each file in the folder\n",
    "    for filename in os.listdir(folder_path):\n",
    "        if filename.endswith('.json'):  # Check if the file is a JSON file\n",
    "            file_path = os.path.join(folder_path, filename)\n",
    "\n",
    "            # Open and read the JSON file\n",
    "            with open(file_path, 'r') as file:\n",
    "                data = json.load(file)\n",
    "                combined_data.append(data)  # Append the data to the combined list\n",
    "\n",
    "    return combined_data\n",
    "\n",
    "# # Specify the path to your folder containing JSON files\n",
    "# folder_path = 'data'\n",
    "\n",
    "# # Combine JSON files\n",
    "# combined_json_data = combine_json_files(folder_path)"
   ]
  },
  {
   "cell_type": "code",
   "execution_count": 15,
   "id": "6524b005",
   "metadata": {},
   "outputs": [],
   "source": [
    "def read_json_file(folder_path):\n",
    "    final_data = []  # Use a list to combine data; adjust as needed (e.g., use a dict)\n",
    "    with open(folder_path, 'r') as file:\n",
    "        data = json.load(file)\n",
    "        final_data.append(data) \n",
    "    return final_data    \n",
    "\n",
    "folder_path = 'processed_data/data.json'\n",
    "json_data = read_json_file(folder_path)"
   ]
  },
  {
   "cell_type": "code",
   "execution_count": 16,
   "id": "81c209ae",
   "metadata": {},
   "outputs": [
    {
     "data": {
      "text/plain": [
       "{'url': 'URL: http://acd.iupui.edu/majors-by-name/general-studies/index.html#search',\n",
       " 'body': \"  ## General studies   ### School of Liberal Arts  Indiana University offers a bachelor's degree in general studies. The program was designed for adult students who want a degree program that combines high academic standards with convenience.   #### Degree map  One of the most difficult tasks of being a college student is figuring out what classes to take and when to take them. In order to make the process a little easier, each major at IUPUI has its own degree map outlining the path you should take to graduate as quickly as possible.  View degree map  [View degree map](https://sisjee.iu.edu/sisigps-prd/web/igps/dm/public/)   #### Major-career connections  General studies   #### Get admitted to the School of Liberal Arts   ##### Admission by certification  General studies—application link for current IUPUI\\xa0students  [General studies—application link for current IUPUI\\xa0students](https://liberalarts.iupui.edu/genstudies/pages/admissions-folder/index.php)   ##### Home page  General studies  [General studies](http://liberalarts.iupui.edu/genstudies)   ### Arts, Humanities, and Human Services Cluster  This major is part of the Arts, Humanities, and Human Services (AHHS) cluster. The AHHS cluster is the academic home of University College students pursuing majors in art and design, education, general studies, journalism, liberal arts, and social work. The AHHS cluster partners with students on their academic advising and career plans to guide them into their degree-granting schools.  Learn about the AHHS cluster  [Learn about the AHHS cluster](https://acd.iupui.edu/advising/advisors-and-clusters/ahhs/index.html)  Learn about other clusters  [Learn about other clusters](https://acd.iupui.edu/advising/advisors-and-clusters/index.html) \",\n",
       " 'context': ['General studies',\n",
       "  'School of Liberal Arts',\n",
       "  'Degree map',\n",
       "  'Major-career connections',\n",
       "  'Get admitted to the School of Liberal Arts',\n",
       "  'Admission by certification',\n",
       "  'Home page',\n",
       "  'Arts, Humanities, and Human Services Cluster']}"
      ]
     },
     "execution_count": 16,
     "metadata": {},
     "output_type": "execute_result"
    }
   ],
   "source": [
    "def flatten(l):\n",
    "    return [item for sublist in l for item in sublist]\n",
    "data_flatten=flatten(json_data)\n",
    "data_flatten[0]"
   ]
  },
  {
   "cell_type": "code",
   "execution_count": 18,
   "id": "f469fa16",
   "metadata": {},
   "outputs": [],
   "source": [
    "def save_cleaned_data(data, output_file):\n",
    "    with open(output_file, 'w') as file:\n",
    "        json.dump(data, file, indent=4)\n",
    "output_file = 'document_data.json'"
   ]
  },
  {
   "cell_type": "code",
   "execution_count": 19,
   "id": "00bc7502",
   "metadata": {},
   "outputs": [],
   "source": [
    "save_cleaned_data(data_flatten,output_file)"
   ]
  },
  {
   "cell_type": "markdown",
   "id": "ea690332",
   "metadata": {},
   "source": [
    "### Document Creation"
   ]
  },
  {
   "cell_type": "code",
   "execution_count": 21,
   "id": "4c5a5233",
   "metadata": {},
   "outputs": [],
   "source": [
    "def metadata_func(record:dict, metadata:dict) ->dict:\n",
    "  metadata[\"url\"]=record.get('url')\n",
    "  metadata['context']=record.get('context')\n",
    "  return metadata\n",
    "  "
   ]
  },
  {
   "cell_type": "code",
   "execution_count": 22,
   "id": "704ccd7e",
   "metadata": {},
   "outputs": [],
   "source": [
    "loader = JSONLoader(\n",
    "    file_path=output_file,\n",
    "    jq_schema='.[]',\n",
    "    content_key='body',\n",
    "    metadata_func=metadata_func,\n",
    "    text_content=False\n",
    ")"
   ]
  },
  {
   "cell_type": "code",
   "execution_count": 23,
   "id": "e2c92da2",
   "metadata": {},
   "outputs": [
    {
     "data": {
      "text/plain": [
       "Document(page_content=\"  ## General studies   ### School of Liberal Arts  Indiana University offers a bachelor's degree in general studies. The program was designed for adult students who want a degree program that combines high academic standards with convenience.   #### Degree map  One of the most difficult tasks of being a college student is figuring out what classes to take and when to take them. In order to make the process a little easier, each major at IUPUI has its own degree map outlining the path you should take to graduate as quickly as possible.  View degree map  [View degree map](https://sisjee.iu.edu/sisigps-prd/web/igps/dm/public/)   #### Major-career connections  General studies   #### Get admitted to the School of Liberal Arts   ##### Admission by certification  General studies—application link for current IUPUI\\xa0students  [General studies—application link for current IUPUI\\xa0students](https://liberalarts.iupui.edu/genstudies/pages/admissions-folder/index.php)   ##### Home page  General studies  [General studies](http://liberalarts.iupui.edu/genstudies)   ### Arts, Humanities, and Human Services Cluster  This major is part of the Arts, Humanities, and Human Services (AHHS) cluster. The AHHS cluster is the academic home of University College students pursuing majors in art and design, education, general studies, journalism, liberal arts, and social work. The AHHS cluster partners with students on their academic advising and career plans to guide them into their degree-granting schools.  Learn about the AHHS cluster  [Learn about the AHHS cluster](https://acd.iupui.edu/advising/advisors-and-clusters/ahhs/index.html)  Learn about other clusters  [Learn about other clusters](https://acd.iupui.edu/advising/advisors-and-clusters/index.html) \", metadata={'source': '/Users/abhi/Documents/GitHub/Unibot/document_data.json', 'seq_num': 1, 'url': 'URL: http://acd.iupui.edu/majors-by-name/general-studies/index.html#search', 'context': ['General studies', 'School of Liberal Arts', 'Degree map', 'Major-career connections', 'Get admitted to the School of Liberal Arts', 'Admission by certification', 'Home page', 'Arts, Humanities, and Human Services Cluster']})"
      ]
     },
     "execution_count": 23,
     "metadata": {},
     "output_type": "execute_result"
    }
   ],
   "source": [
    "documents = loader.load()\n",
    "documents[0]"
   ]
  },
  {
   "cell_type": "markdown",
   "id": "5574ba34",
   "metadata": {},
   "source": [
    "#### Splitting the docs"
   ]
  },
  {
   "cell_type": "code",
   "execution_count": 24,
   "id": "e795efed",
   "metadata": {},
   "outputs": [],
   "source": [
    "text_splitter = RecursiveCharacterTextSplitter(chunk_size=500, chunk_overlap=100)\n",
    "texts = text_splitter.split_documents(documents)"
   ]
  },
  {
   "cell_type": "code",
   "execution_count": 25,
   "id": "f5296baf",
   "metadata": {},
   "outputs": [
    {
     "data": {
      "text/plain": [
       "143368"
      ]
     },
     "execution_count": 25,
     "metadata": {},
     "output_type": "execute_result"
    }
   ],
   "source": [
    "len(texts)"
   ]
  },
  {
   "cell_type": "markdown",
   "id": "6be694bd",
   "metadata": {},
   "source": [
    "### Embedding Creation\n"
   ]
  },
  {
   "cell_type": "code",
   "execution_count": 26,
   "id": "4e35e9af",
   "metadata": {},
   "outputs": [],
   "source": [
    "#token=''"
   ]
  },
  {
   "cell_type": "code",
   "execution_count": 27,
   "id": "9a907323",
   "metadata": {},
   "outputs": [],
   "source": [
    "import os\n",
    "from getpass import getpass\n",
    "from langchain.embeddings.openai import OpenAIEmbeddings\n",
    "\n",
    "model_name = \"text-embedding-ada-002\"\n",
    "\n",
    "# get openai api key from platform.openai.com\n",
    "OPENAI_API_KEY = token\n",
    "\n",
    "OAIembeddings = OpenAIEmbeddings(\n",
    "    model=model_name, openai_api_key=OPENAI_API_KEY, disallowed_special=()\n",
    ")"
   ]
  },
  {
   "cell_type": "markdown",
   "id": "f473910d",
   "metadata": {},
   "source": [
    "### Vector Store"
   ]
  },
  {
   "cell_type": "code",
   "execution_count": 28,
   "id": "40802604",
   "metadata": {},
   "outputs": [],
   "source": [
    "sample = texts[:5]"
   ]
  },
  {
   "cell_type": "code",
   "execution_count": null,
   "id": "765dfdf2",
   "metadata": {},
   "outputs": [],
   "source": [
    "vector_store = Chroma.from_documents(\n",
    "    sample, \n",
    "    OAIembeddings, \n",
    "    ids=[f\"{item.metadata['url']}-{index}\" for index, item in enumerate(sample)], \n",
    "    persist_directory=\"iupui_store_1\"\n",
    "    )"
   ]
  }
 ],
 "metadata": {
  "kernelspec": {
   "display_name": "Python 3 (ipykernel)",
   "language": "python",
   "name": "python3"
  },
  "language_info": {
   "codemirror_mode": {
    "name": "ipython",
    "version": 3
   },
   "file_extension": ".py",
   "mimetype": "text/x-python",
   "name": "python",
   "nbconvert_exporter": "python",
   "pygments_lexer": "ipython3",
   "version": "3.9.12"
  }
 },
 "nbformat": 4,
 "nbformat_minor": 5
}
